{
 "cells": [
  {
   "cell_type": "code",
   "execution_count": 5,
   "id": "e6b6c074-e1d7-4a64-8898-ed1f3592cd74",
   "metadata": {},
   "outputs": [
    {
     "name": "stdout",
     "output_type": "stream",
     "text": [
      "Requirement already satisfied: pandas in c:\\users\\wishmap\\appdata\\local\\anaconda3\\envs\\my-conda-env\\lib\\site-packages (2.2.2)\n",
      "Requirement already satisfied: numpy>=1.23.2 in c:\\users\\wishmap\\appdata\\local\\anaconda3\\envs\\my-conda-env\\lib\\site-packages (from pandas) (1.26.4)\n",
      "Requirement already satisfied: python-dateutil>=2.8.2 in c:\\users\\wishmap\\appdata\\local\\anaconda3\\envs\\my-conda-env\\lib\\site-packages (from pandas) (2.8.2)\n",
      "Requirement already satisfied: pytz>=2020.1 in c:\\users\\wishmap\\appdata\\local\\anaconda3\\envs\\my-conda-env\\lib\\site-packages (from pandas) (2023.3.post1)\n",
      "Requirement already satisfied: tzdata>=2022.7 in c:\\users\\wishmap\\appdata\\local\\anaconda3\\envs\\my-conda-env\\lib\\site-packages (from pandas) (2024.1)\n",
      "Requirement already satisfied: six>=1.5 in c:\\users\\wishmap\\appdata\\local\\anaconda3\\envs\\my-conda-env\\lib\\site-packages (from python-dateutil>=2.8.2->pandas) (1.16.0)\n",
      "Note: you may need to restart the kernel to use updated packages.\n"
     ]
    }
   ],
   "source": [
    "pip install pandas"
   ]
  },
  {
   "cell_type": "code",
   "execution_count": 1,
   "id": "c0b55734",
   "metadata": {},
   "outputs": [
    {
     "name": "stdout",
     "output_type": "stream",
     "text": [
      "64\n"
     ]
    },
    {
     "data": {
      "image/png": "[encoded data removed]",
      "text/plain": [
       "<Figure size 432x288 with 2 Axes>"
      ]
     },
     "metadata": {
      "needs_background": "light"
     },
     "output_type": "display_data"
    }
   ],
   "source": [
    "import pandas as pd\n",
    "import numpy as np\n",
    "import matplotlib.pyplot as plt\n",
    "df = pd.read_csv(\"silhouettes.csv\")\n",
    "df.to_string()\n",
    "\n",
    "df.iloc[:,:]\n",
    "x = np.array(df.columns)\n",
    "w = [set(df.iloc[:,i]) for i in range(len(x))]\n",
    "similarity_count = []\n",
    "similarity_percent = []\n",
    "\n",
    "for i in range(len(w)):\n",
    "    for j in range(len(w)):\n",
    "        similarity_count.append(len(w[i].intersection(w[j])))\n",
    "        similarity_percent.append(round((len(w[i].intersection(w[j]))/len(w[j])*100)))\n",
    "        \n",
    "#print(similarity_count)\n",
    "print(min(similarity_percent))\n",
    "len(similarity_count)\n",
    "\n",
    "heat = []\n",
    "step = 8\n",
    "for i in range(0,len(similarity_percent),step):\n",
    "    heat.append(similarity_percent[i: i+ step])\n",
    "    i += step\n",
    "\n",
    "plt.imshow(heat, cmap='viridis', interpolation='nearest',aspect='equal')\n",
    "plt.colorbar(label=\"Value\")\n",
    "plt.show()"
   ]
  },
  {
   "cell_type": "code",
   "execution_count": null,
   "id": "0621697c",
   "metadata": {},
   "outputs": [],
   "source": [
    "y = map()"
   ]
  }
 ],
 "metadata": {
  "kernelspec": {
   "display_name": "djangoenv",
   "language": "python",
   "name": "python3"
  },
  "language_info": {
   "codemirror_mode": {
    "name": "ipython",
    "version": 3
   },
   "file_extension": ".py",
   "mimetype": "text/x-python",
   "name": "python",
   "nbconvert_exporter": "python",
   "pygments_lexer": "ipython3",
   "version": "3.6.10"
  }
 },
 "nbformat": 4,
 "nbformat_minor": 5
}
